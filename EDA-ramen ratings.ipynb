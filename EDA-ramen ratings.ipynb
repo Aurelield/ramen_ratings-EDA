{
 "cells": [
  {
   "cell_type": "code",
   "execution_count": 235,
   "id": "251531a0-94b3-47a3-ad8b-e4bdb3d9448a",
   "metadata": {},
   "outputs": [],
   "source": [
    "import pandas as pd\n",
    "import seaborn as sn\n",
    "import matplotlib.pyplot as plt\n",
    "import fuzzywuzzy\n",
    "from fuzzywuzzy import process\n",
    "%matplotlib inline\n",
    "from fuzzywuzzy import fuzz"
   ]
  },
  {
   "cell_type": "code",
   "execution_count": 236,
   "id": "0974fe30-8533-4c25-a0d7-fc44365f6106",
   "metadata": {},
   "outputs": [],
   "source": [
    "ramen=pd.read_csv('ramen-ratings.csv')"
   ]
  },
  {
   "cell_type": "code",
   "execution_count": 237,
   "id": "affd2d39-46ca-4bf6-b92c-de213af7378b",
   "metadata": {},
   "outputs": [
    {
     "data": {
      "text/html": [
       "<div>\n",
       "<style scoped>\n",
       "    .dataframe tbody tr th:only-of-type {\n",
       "        vertical-align: middle;\n",
       "    }\n",
       "\n",
       "    .dataframe tbody tr th {\n",
       "        vertical-align: top;\n",
       "    }\n",
       "\n",
       "    .dataframe thead th {\n",
       "        text-align: right;\n",
       "    }\n",
       "</style>\n",
       "<table border=\"1\" class=\"dataframe\">\n",
       "  <thead>\n",
       "    <tr style=\"text-align: right;\">\n",
       "      <th></th>\n",
       "      <th>Review #</th>\n",
       "      <th>Brand</th>\n",
       "      <th>Variety</th>\n",
       "      <th>Style</th>\n",
       "      <th>Country</th>\n",
       "      <th>Stars</th>\n",
       "      <th>Top Ten</th>\n",
       "    </tr>\n",
       "  </thead>\n",
       "  <tbody>\n",
       "    <tr>\n",
       "      <th>0</th>\n",
       "      <td>2580</td>\n",
       "      <td>New Touch</td>\n",
       "      <td>T's Restaurant Tantanmen</td>\n",
       "      <td>Cup</td>\n",
       "      <td>Japan</td>\n",
       "      <td>3.75</td>\n",
       "      <td>NaN</td>\n",
       "    </tr>\n",
       "    <tr>\n",
       "      <th>1</th>\n",
       "      <td>2579</td>\n",
       "      <td>Just Way</td>\n",
       "      <td>Noodles Spicy Hot Sesame Spicy Hot Sesame Guan...</td>\n",
       "      <td>Pack</td>\n",
       "      <td>Taiwan</td>\n",
       "      <td>1</td>\n",
       "      <td>NaN</td>\n",
       "    </tr>\n",
       "    <tr>\n",
       "      <th>2</th>\n",
       "      <td>2578</td>\n",
       "      <td>Nissin</td>\n",
       "      <td>Cup Noodles Chicken Vegetable</td>\n",
       "      <td>Cup</td>\n",
       "      <td>USA</td>\n",
       "      <td>2.25</td>\n",
       "      <td>NaN</td>\n",
       "    </tr>\n",
       "    <tr>\n",
       "      <th>3</th>\n",
       "      <td>2577</td>\n",
       "      <td>Wei Lih</td>\n",
       "      <td>GGE Ramen Snack Tomato Flavor</td>\n",
       "      <td>Pack</td>\n",
       "      <td>Taiwan</td>\n",
       "      <td>2.75</td>\n",
       "      <td>NaN</td>\n",
       "    </tr>\n",
       "    <tr>\n",
       "      <th>4</th>\n",
       "      <td>2576</td>\n",
       "      <td>Ching's Secret</td>\n",
       "      <td>Singapore Curry</td>\n",
       "      <td>Pack</td>\n",
       "      <td>India</td>\n",
       "      <td>3.75</td>\n",
       "      <td>NaN</td>\n",
       "    </tr>\n",
       "    <tr>\n",
       "      <th>...</th>\n",
       "      <td>...</td>\n",
       "      <td>...</td>\n",
       "      <td>...</td>\n",
       "      <td>...</td>\n",
       "      <td>...</td>\n",
       "      <td>...</td>\n",
       "      <td>...</td>\n",
       "    </tr>\n",
       "    <tr>\n",
       "      <th>2575</th>\n",
       "      <td>5</td>\n",
       "      <td>Vifon</td>\n",
       "      <td>Hu Tiu Nam Vang [\"Phnom Penh\" style] Asian Sty...</td>\n",
       "      <td>Bowl</td>\n",
       "      <td>Vietnam</td>\n",
       "      <td>3.5</td>\n",
       "      <td>NaN</td>\n",
       "    </tr>\n",
       "    <tr>\n",
       "      <th>2576</th>\n",
       "      <td>4</td>\n",
       "      <td>Wai Wai</td>\n",
       "      <td>Oriental Style Instant Noodles</td>\n",
       "      <td>Pack</td>\n",
       "      <td>Thailand</td>\n",
       "      <td>1</td>\n",
       "      <td>NaN</td>\n",
       "    </tr>\n",
       "    <tr>\n",
       "      <th>2577</th>\n",
       "      <td>3</td>\n",
       "      <td>Wai Wai</td>\n",
       "      <td>Tom Yum Shrimp</td>\n",
       "      <td>Pack</td>\n",
       "      <td>Thailand</td>\n",
       "      <td>2</td>\n",
       "      <td>NaN</td>\n",
       "    </tr>\n",
       "    <tr>\n",
       "      <th>2578</th>\n",
       "      <td>2</td>\n",
       "      <td>Wai Wai</td>\n",
       "      <td>Tom Yum Chili Flavor</td>\n",
       "      <td>Pack</td>\n",
       "      <td>Thailand</td>\n",
       "      <td>2</td>\n",
       "      <td>NaN</td>\n",
       "    </tr>\n",
       "    <tr>\n",
       "      <th>2579</th>\n",
       "      <td>1</td>\n",
       "      <td>Westbrae</td>\n",
       "      <td>Miso Ramen</td>\n",
       "      <td>Pack</td>\n",
       "      <td>USA</td>\n",
       "      <td>0.5</td>\n",
       "      <td>NaN</td>\n",
       "    </tr>\n",
       "  </tbody>\n",
       "</table>\n",
       "<p>2580 rows × 7 columns</p>\n",
       "</div>"
      ],
      "text/plain": [
       "      Review #           Brand  \\\n",
       "0         2580       New Touch   \n",
       "1         2579        Just Way   \n",
       "2         2578          Nissin   \n",
       "3         2577         Wei Lih   \n",
       "4         2576  Ching's Secret   \n",
       "...        ...             ...   \n",
       "2575         5           Vifon   \n",
       "2576         4         Wai Wai   \n",
       "2577         3         Wai Wai   \n",
       "2578         2         Wai Wai   \n",
       "2579         1        Westbrae   \n",
       "\n",
       "                                                Variety Style   Country Stars  \\\n",
       "0                             T's Restaurant Tantanmen    Cup     Japan  3.75   \n",
       "1     Noodles Spicy Hot Sesame Spicy Hot Sesame Guan...  Pack    Taiwan     1   \n",
       "2                         Cup Noodles Chicken Vegetable   Cup       USA  2.25   \n",
       "3                         GGE Ramen Snack Tomato Flavor  Pack    Taiwan  2.75   \n",
       "4                                       Singapore Curry  Pack     India  3.75   \n",
       "...                                                 ...   ...       ...   ...   \n",
       "2575  Hu Tiu Nam Vang [\"Phnom Penh\" style] Asian Sty...  Bowl   Vietnam   3.5   \n",
       "2576                     Oriental Style Instant Noodles  Pack  Thailand     1   \n",
       "2577                                     Tom Yum Shrimp  Pack  Thailand     2   \n",
       "2578                               Tom Yum Chili Flavor  Pack  Thailand     2   \n",
       "2579                                         Miso Ramen  Pack       USA   0.5   \n",
       "\n",
       "     Top Ten  \n",
       "0        NaN  \n",
       "1        NaN  \n",
       "2        NaN  \n",
       "3        NaN  \n",
       "4        NaN  \n",
       "...      ...  \n",
       "2575     NaN  \n",
       "2576     NaN  \n",
       "2577     NaN  \n",
       "2578     NaN  \n",
       "2579     NaN  \n",
       "\n",
       "[2580 rows x 7 columns]"
      ]
     },
     "execution_count": 237,
     "metadata": {},
     "output_type": "execute_result"
    }
   ],
   "source": [
    "ramen"
   ]
  },
  {
   "cell_type": "code",
   "execution_count": 238,
   "id": "d7a4d33a-37c8-490c-a461-380e2480aa00",
   "metadata": {},
   "outputs": [
    {
     "data": {
      "text/plain": [
       "Review #       0\n",
       "Brand          0\n",
       "Variety        0\n",
       "Style          2\n",
       "Country        0\n",
       "Stars          0\n",
       "Top Ten     2539\n",
       "dtype: int64"
      ]
     },
     "execution_count": 238,
     "metadata": {},
     "output_type": "execute_result"
    }
   ],
   "source": [
    "ramen.isnull().sum()"
   ]
  },
  {
   "cell_type": "code",
   "execution_count": 239,
   "id": "04d593b6-4fd7-486a-a0d7-dc834c645bbc",
   "metadata": {},
   "outputs": [],
   "source": [
    "ramen.drop('Top Ten', axis=1, inplace=True)"
   ]
  },
  {
   "cell_type": "code",
   "execution_count": 240,
   "id": "dee35a05-9ea2-47c1-be36-40c07e2f04f8",
   "metadata": {},
   "outputs": [
    {
     "data": {
      "text/plain": [
       "array(['Japan', 'Taiwan', 'USA', 'India', 'South Korea', 'Singapore',\n",
       "       'Thailand', 'Hong Kong', 'Vietnam', 'Ghana', 'Malaysia',\n",
       "       'Indonesia', 'China', 'Nigeria', 'Germany', 'Hungary', 'Mexico',\n",
       "       'Fiji', 'Australia', 'Pakistan', 'Bangladesh', 'Canada', 'Nepal',\n",
       "       'Brazil', 'UK', 'Myanmar', 'Netherlands', 'United States',\n",
       "       'Cambodia', 'Finland', 'Sarawak', 'Philippines', 'Sweden',\n",
       "       'Colombia', 'Estonia', 'Holland', 'Poland', 'Dubai'], dtype=object)"
      ]
     },
     "execution_count": 240,
     "metadata": {},
     "output_type": "execute_result"
    }
   ],
   "source": [
    "ramen['Country'].unique()"
   ]
  },
  {
   "cell_type": "markdown",
   "id": "823ffa70-80b6-45b6-b8b8-67a394ae27db",
   "metadata": {},
   "source": [
    "# Barplot-distribution per country (TOP 10)"
   ]
  },
  {
   "cell_type": "code",
   "execution_count": 241,
   "id": "b96ae2ad-3f9b-4c13-a6b9-d340fad97ba6",
   "metadata": {},
   "outputs": [],
   "source": [
    "grouped_by_country=ramen.groupby('Country').size().reset_index(name='Number_of_reviews')"
   ]
  },
  {
   "cell_type": "code",
   "execution_count": 242,
   "id": "39ca6a36-0aee-4a91-8630-bddb7d8eb7dd",
   "metadata": {},
   "outputs": [],
   "source": [
    "grouped_by_country= grouped_by_country.sort_values('Number_of_reviews', ascending=False)[0:9]"
   ]
  },
  {
   "cell_type": "code",
   "execution_count": 243,
   "id": "3cf7576c-f34f-43b9-9eea-8209fcda6e37",
   "metadata": {},
   "outputs": [
    {
     "data": {
      "text/plain": [
       "Text(0.5, 1.0, 'Ramen distribution per country')"
      ]
     },
     "execution_count": 243,
     "metadata": {},
     "output_type": "execute_result"
    },
    {
     "data": {
      "image/png": "[encoded data removed]",
      "text/plain": [
       "<Figure size 720x720 with 1 Axes>"
      ]
     },
     "metadata": {
      "needs_background": "light"
     },
     "output_type": "display_data"
    }
   ],
   "source": [
    "plt.subplots(figsize=(10,10))\n",
    "ax=sn.barplot(data=grouped_by_country, x='Number_of_reviews',\n",
    "           y='Country',\n",
    "           order=grouped_by_country.sort_values('Number_of_reviews', ascending=False).Country)\n",
    "plt.xticks(rotation=90)\n",
    "ax.set_title('Ramen distribution per country', fontsize=14)"
   ]
  },
  {
   "cell_type": "markdown",
   "id": "5f47fec9-b867-4a74-9a51-e95cd5c853a7",
   "metadata": {},
   "source": [
    "# Data manipulation: Evaluating categorical values written twice differently"
   ]
  },
  {
   "cell_type": "code",
   "execution_count": 244,
   "id": "84de6325-c5f9-47a8-91fe-a301e4cc1bc5",
   "metadata": {},
   "outputs": [],
   "source": [
    "brands=ramen['Brand'].unique()"
   ]
  },
  {
   "cell_type": "code",
   "execution_count": 245,
   "id": "7e01c249-3f0f-4dd5-b1c4-0fe23531fdc2",
   "metadata": {},
   "outputs": [],
   "source": [
    "brands.sort()"
   ]
  },
  {
   "cell_type": "code",
   "execution_count": 246,
   "id": "ff8001ba-9d61-40a5-bee9-9aed08a6abdf",
   "metadata": {},
   "outputs": [],
   "source": [
    "# Replaces rows in the provided column of the provided dataframe\n",
    "# that match the provided string above the provided ratio with the provided string\n",
    "def replace_matches_in_column(df, column, string_to_match, min_ratio = 90):\n",
    "    # get a list of unique strings\n",
    "    strings = df[column].unique()\n",
    "    \n",
    "    # get the top 10 closest matches to our input string\n",
    "    matches = fuzzywuzzy.process.extract(string_to_match, strings, \n",
    "                                         limit=10, scorer=fuzzywuzzy.fuzz.token_sort_ratio)\n",
    "\n",
    "    # only get matches with a ratio > 90\n",
    "    close_matches = [matches[0] for matches in matches if matches[1] >= min_ratio]\n",
    "\n",
    "    # get the rows of all the close matches in our dataframe\n",
    "    rows_with_matches = df[column].isin(close_matches)\n",
    "\n",
    "    # replace all rows with close matches with the input matches \n",
    "    df.loc[rows_with_matches, column] = string_to_match\n",
    "    \n",
    "    # let us know the function's done\n",
    "    print(\"All done!\")"
   ]
  },
  {
   "cell_type": "code",
   "execution_count": 247,
   "id": "559dbd8f-9e5f-4185-9036-a5831d27d2e3",
   "metadata": {},
   "outputs": [
    {
     "name": "stdout",
     "output_type": "stream",
     "text": [
      "All done!\n",
      "All done!\n",
      "All done!\n",
      "All done!\n",
      "All done!\n"
     ]
    }
   ],
   "source": [
    "replace_matches_in_column(df=ramen, column=\"Brand\", string_to_match=\"Chorip Dong\", min_ratio = 47)\n",
    "replace_matches_in_column(df=ramen, column=\"Brand\", string_to_match=\"Fashion Food\", min_ratio = 47)\n",
    "replace_matches_in_column(df=ramen, column=\"Brand\", string_to_match=\"Mama\", min_ratio = 47)\n",
    "replace_matches_in_column(df=ramen, column=\"Brand\", string_to_match=\"Wu Mu\", min_ratio = 47)\n",
    "replace_matches_in_column(df=ramen, column=\"Brand\", string_to_match=\"A1\", min_ratio = 47)"
   ]
  },
  {
   "cell_type": "markdown",
   "id": "f59298e6-e783-4caf-b4e3-048fd1a39f1c",
   "metadata": {},
   "source": [
    "# Data manipulation: Removing duplicates reviews"
   ]
  },
  {
   "cell_type": "code",
   "execution_count": 248,
   "id": "e01a200d-15a8-4b0d-b63b-28b89fe84151",
   "metadata": {},
   "outputs": [],
   "source": [
    "duplicates=ramen['Review #'].duplicated().sum()"
   ]
  },
  {
   "cell_type": "code",
   "execution_count": 249,
   "id": "4e4c1275-d3ac-4e77-a4b9-69a6a4d35dab",
   "metadata": {},
   "outputs": [
    {
     "data": {
      "text/plain": [
       "0"
      ]
     },
     "execution_count": 249,
     "metadata": {},
     "output_type": "execute_result"
    }
   ],
   "source": [
    "duplicates"
   ]
  },
  {
   "cell_type": "markdown",
   "id": "ee63faed-7e93-4981-80f8-0da36715ef1b",
   "metadata": {},
   "source": [
    "# II) Is there a relation between the ratings and the product's style?"
   ]
  },
  {
   "cell_type": "code",
   "execution_count": 250,
   "id": "ce79395f-ffa6-4572-b2d5-8ae9489bb030",
   "metadata": {},
   "outputs": [
    {
     "data": {
      "text/plain": [
       "str"
      ]
     },
     "execution_count": 250,
     "metadata": {},
     "output_type": "execute_result"
    }
   ],
   "source": [
    "type(ramen['Stars'][0])"
   ]
  },
  {
   "cell_type": "code",
   "execution_count": 251,
   "id": "6a804e4b-808d-471b-9cd2-d185180cedeb",
   "metadata": {},
   "outputs": [],
   "source": [
    "# Using errors=’coerce’. It will replace all non-numeric values with NaN.\n",
    "ramen['Stars']=pd.to_numeric(ramen['Stars'], errors='coerce')"
   ]
  },
  {
   "cell_type": "code",
   "execution_count": 252,
   "id": "541bd504-ad9b-451e-afb0-a8e7ee41ff67",
   "metadata": {},
   "outputs": [
    {
     "data": {
      "text/html": [
       "<div>\n",
       "<style scoped>\n",
       "    .dataframe tbody tr th:only-of-type {\n",
       "        vertical-align: middle;\n",
       "    }\n",
       "\n",
       "    .dataframe tbody tr th {\n",
       "        vertical-align: top;\n",
       "    }\n",
       "\n",
       "    .dataframe thead th {\n",
       "        text-align: right;\n",
       "    }\n",
       "</style>\n",
       "<table border=\"1\" class=\"dataframe\">\n",
       "  <thead>\n",
       "    <tr style=\"text-align: right;\">\n",
       "      <th></th>\n",
       "      <th>Review #</th>\n",
       "      <th>Brand</th>\n",
       "      <th>Variety</th>\n",
       "      <th>Style</th>\n",
       "      <th>Country</th>\n",
       "      <th>Stars</th>\n",
       "    </tr>\n",
       "  </thead>\n",
       "  <tbody>\n",
       "    <tr>\n",
       "      <th>32</th>\n",
       "      <td>2548</td>\n",
       "      <td>Ottogi</td>\n",
       "      <td>Plain Instant Noodle No Soup Included</td>\n",
       "      <td>Pack</td>\n",
       "      <td>South Korea</td>\n",
       "      <td>NaN</td>\n",
       "    </tr>\n",
       "    <tr>\n",
       "      <th>122</th>\n",
       "      <td>2458</td>\n",
       "      <td>Samyang Foods</td>\n",
       "      <td>Sari Ramen</td>\n",
       "      <td>Pack</td>\n",
       "      <td>South Korea</td>\n",
       "      <td>NaN</td>\n",
       "    </tr>\n",
       "    <tr>\n",
       "      <th>993</th>\n",
       "      <td>1587</td>\n",
       "      <td>Mi E-Zee</td>\n",
       "      <td>Plain Noodles</td>\n",
       "      <td>Pack</td>\n",
       "      <td>Malaysia</td>\n",
       "      <td>NaN</td>\n",
       "    </tr>\n",
       "  </tbody>\n",
       "</table>\n",
       "</div>"
      ],
      "text/plain": [
       "     Review #          Brand                                Variety Style  \\\n",
       "32       2548         Ottogi  Plain Instant Noodle No Soup Included  Pack   \n",
       "122      2458  Samyang Foods                             Sari Ramen  Pack   \n",
       "993      1587       Mi E-Zee                          Plain Noodles  Pack   \n",
       "\n",
       "         Country  Stars  \n",
       "32   South Korea    NaN  \n",
       "122  South Korea    NaN  \n",
       "993     Malaysia    NaN  "
      ]
     },
     "execution_count": 252,
     "metadata": {},
     "output_type": "execute_result"
    }
   ],
   "source": [
    "ramen.loc[ramen['Stars'].isnull()]"
   ]
  },
  {
   "cell_type": "markdown",
   "id": "1bf68950-f990-4bf7-811e-9b52289cc8e3",
   "metadata": {},
   "source": [
    "### filling the NaN values from the column 'Stars' and the column 'Style'"
   ]
  },
  {
   "cell_type": "code",
   "execution_count": 253,
   "id": "a313c758-4d65-41bb-80a8-725a9507c0de",
   "metadata": {},
   "outputs": [],
   "source": [
    "ramen['Stars']=ramen['Stars'].fillna(method='bfill', axis=0)"
   ]
  },
  {
   "cell_type": "code",
   "execution_count": 254,
   "id": "1603918b-04ff-45e7-a871-18a234f51bbc",
   "metadata": {},
   "outputs": [
    {
     "data": {
      "text/html": [
       "<div>\n",
       "<style scoped>\n",
       "    .dataframe tbody tr th:only-of-type {\n",
       "        vertical-align: middle;\n",
       "    }\n",
       "\n",
       "    .dataframe tbody tr th {\n",
       "        vertical-align: top;\n",
       "    }\n",
       "\n",
       "    .dataframe thead th {\n",
       "        text-align: right;\n",
       "    }\n",
       "</style>\n",
       "<table border=\"1\" class=\"dataframe\">\n",
       "  <thead>\n",
       "    <tr style=\"text-align: right;\">\n",
       "      <th></th>\n",
       "      <th>Review #</th>\n",
       "      <th>Brand</th>\n",
       "      <th>Variety</th>\n",
       "      <th>Style</th>\n",
       "      <th>Country</th>\n",
       "      <th>Stars</th>\n",
       "    </tr>\n",
       "  </thead>\n",
       "  <tbody>\n",
       "  </tbody>\n",
       "</table>\n",
       "</div>"
      ],
      "text/plain": [
       "Empty DataFrame\n",
       "Columns: [Review #, Brand, Variety, Style, Country, Stars]\n",
       "Index: []"
      ]
     },
     "execution_count": 254,
     "metadata": {},
     "output_type": "execute_result"
    }
   ],
   "source": [
    "ramen.loc[ramen['Stars'].isnull()]"
   ]
  },
  {
   "cell_type": "code",
   "execution_count": 255,
   "id": "de72df1b-1f11-40cc-956c-0fa6f3f74dfc",
   "metadata": {},
   "outputs": [],
   "source": [
    "ramen['Style']=ramen['Style'].fillna(method='bfill', axis=0)"
   ]
  },
  {
   "cell_type": "code",
   "execution_count": 256,
   "id": "de8f66c5-7925-4498-9bae-6ee1c9495296",
   "metadata": {},
   "outputs": [
    {
     "data": {
      "text/html": [
       "<div>\n",
       "<style scoped>\n",
       "    .dataframe tbody tr th:only-of-type {\n",
       "        vertical-align: middle;\n",
       "    }\n",
       "\n",
       "    .dataframe tbody tr th {\n",
       "        vertical-align: top;\n",
       "    }\n",
       "\n",
       "    .dataframe thead th {\n",
       "        text-align: right;\n",
       "    }\n",
       "</style>\n",
       "<table border=\"1\" class=\"dataframe\">\n",
       "  <thead>\n",
       "    <tr style=\"text-align: right;\">\n",
       "      <th></th>\n",
       "      <th>Review #</th>\n",
       "      <th>Brand</th>\n",
       "      <th>Variety</th>\n",
       "      <th>Style</th>\n",
       "      <th>Country</th>\n",
       "      <th>Stars</th>\n",
       "    </tr>\n",
       "  </thead>\n",
       "  <tbody>\n",
       "  </tbody>\n",
       "</table>\n",
       "</div>"
      ],
      "text/plain": [
       "Empty DataFrame\n",
       "Columns: [Review #, Brand, Variety, Style, Country, Stars]\n",
       "Index: []"
      ]
     },
     "execution_count": 256,
     "metadata": {},
     "output_type": "execute_result"
    }
   ],
   "source": [
    "ramen.loc[ramen['Style'].isnull()]"
   ]
  },
  {
   "cell_type": "markdown",
   "id": "0e855bfa-7e70-4b89-80d5-422febb51e04",
   "metadata": {},
   "source": [
    "### style percentage"
   ]
  },
  {
   "cell_type": "code",
   "execution_count": 257,
   "id": "2842832f-869e-41af-a526-9e66cd7326e3",
   "metadata": {},
   "outputs": [],
   "source": [
    "style_percent=ramen['Style'].value_counts()/len(ramen['Style'])*100"
   ]
  },
  {
   "cell_type": "code",
   "execution_count": 258,
   "id": "ba820928-52d7-4c50-aa72-38789a5cab2b",
   "metadata": {},
   "outputs": [
    {
     "data": {
      "text/plain": [
       "Pack    59.379845\n",
       "Bowl    18.682171\n",
       "Cup     17.441860\n",
       "Tray     4.186047\n",
       "Box      0.232558\n",
       "Can      0.038760\n",
       "Bar      0.038760\n",
       "Name: Style, dtype: float64"
      ]
     },
     "execution_count": 258,
     "metadata": {},
     "output_type": "execute_result"
    }
   ],
   "source": [
    "style_percent"
   ]
  },
  {
   "cell_type": "markdown",
   "id": "47ad74b2-5b24-4e41-afc5-c82307755c79",
   "metadata": {},
   "source": [
    "### more than 59% of noodlesold  are in pack but the style that got the best rating is bar."
   ]
  },
  {
   "cell_type": "code",
   "execution_count": 259,
   "id": "d0965e38-070f-4ccb-9651-86cd9fde2e97",
   "metadata": {},
   "outputs": [],
   "source": [
    "styles_and_stars=ramen[['Stars', 'Style']]"
   ]
  },
  {
   "cell_type": "code",
   "execution_count": 260,
   "id": "59ce3821-001d-4666-a1b8-e4978c9ac5d9",
   "metadata": {},
   "outputs": [
    {
     "data": {
      "text/plain": [
       "Style\n",
       "Bar     5.000000\n",
       "Bowl    3.669295\n",
       "Box     4.291667\n",
       "Can     3.500000\n",
       "Cup     3.498500\n",
       "Pack    3.700587\n",
       "Tray    3.545139\n",
       "Name: Stars, dtype: float64"
      ]
     },
     "execution_count": 260,
     "metadata": {},
     "output_type": "execute_result"
    }
   ],
   "source": [
    "styles_and_stars.groupby('Style')['Stars'].mean()"
   ]
  },
  {
   "cell_type": "code",
   "execution_count": 261,
   "id": "670bbc44-4eb8-4cb9-82ce-f23d4373cada",
   "metadata": {},
   "outputs": [],
   "source": [
    "styles_and_stars=styles_and_stars.groupby('Style')['Stars'].mean().reset_index().sort_values(by='Stars',ascending=False)"
   ]
  },
  {
   "cell_type": "code",
   "execution_count": 262,
   "id": "a61f8d85-a369-4fa8-b1c3-0792d6c9a92b",
   "metadata": {},
   "outputs": [
    {
     "data": {
      "text/plain": [
       "Text(0.5, 1.0, 'Distribution of average rankings across different styles')"
      ]
     },
     "execution_count": 262,
     "metadata": {},
     "output_type": "execute_result"
    },
    {
     "data": {
      "image/png": "[encoded data removed]",
      "text/plain": [
       "<Figure size 720x720 with 1 Axes>"
      ]
     },
     "metadata": {
      "needs_background": "light"
     },
     "output_type": "display_data"
    }
   ],
   "source": [
    "plt.subplots(figsize=(10,10))\n",
    "ax=sn.barplot(data=styles_and_stars, x='Style', y='Stars')\n",
    "ax.set_title('Distribution of average rankings across different styles',fontsize=18)"
   ]
  },
  {
   "cell_type": "markdown",
   "id": "d356d812-a87b-48b8-91d6-56c8c801d89d",
   "metadata": {},
   "source": [
    "### bar noodle gets the highest rating.\n",
    "Is it because the price? bar noodle are more expensive than pack noodles? "
   ]
  },
  {
   "cell_type": "code",
   "execution_count": 263,
   "id": "52082ebf-d412-45c5-beba-4cfdaede980c",
   "metadata": {
    "tags": []
   },
   "outputs": [],
   "source": [
    "ramen_distribution=ramen.copy()"
   ]
  },
  {
   "cell_type": "code",
   "execution_count": 264,
   "id": "c6294ef6-de0a-4dd0-9c81-b43cddd39d4e",
   "metadata": {},
   "outputs": [
    {
     "data": {
      "text/html": [
       "<div>\n",
       "<style scoped>\n",
       "    .dataframe tbody tr th:only-of-type {\n",
       "        vertical-align: middle;\n",
       "    }\n",
       "\n",
       "    .dataframe tbody tr th {\n",
       "        vertical-align: top;\n",
       "    }\n",
       "\n",
       "    .dataframe thead th {\n",
       "        text-align: right;\n",
       "    }\n",
       "</style>\n",
       "<table border=\"1\" class=\"dataframe\">\n",
       "  <thead>\n",
       "    <tr style=\"text-align: right;\">\n",
       "      <th></th>\n",
       "      <th>Review #</th>\n",
       "      <th>Brand</th>\n",
       "      <th>Variety</th>\n",
       "      <th>Style</th>\n",
       "      <th>Country</th>\n",
       "      <th>Stars</th>\n",
       "    </tr>\n",
       "  </thead>\n",
       "  <tbody>\n",
       "    <tr>\n",
       "      <th>0</th>\n",
       "      <td>2580</td>\n",
       "      <td>New Touch</td>\n",
       "      <td>T's Restaurant Tantanmen</td>\n",
       "      <td>Cup</td>\n",
       "      <td>Japan</td>\n",
       "      <td>3.75</td>\n",
       "    </tr>\n",
       "    <tr>\n",
       "      <th>1</th>\n",
       "      <td>2579</td>\n",
       "      <td>Just Way</td>\n",
       "      <td>Noodles Spicy Hot Sesame Spicy Hot Sesame Guan...</td>\n",
       "      <td>Pack</td>\n",
       "      <td>Taiwan</td>\n",
       "      <td>1.00</td>\n",
       "    </tr>\n",
       "    <tr>\n",
       "      <th>2</th>\n",
       "      <td>2578</td>\n",
       "      <td>Nissin</td>\n",
       "      <td>Cup Noodles Chicken Vegetable</td>\n",
       "      <td>Cup</td>\n",
       "      <td>USA</td>\n",
       "      <td>2.25</td>\n",
       "    </tr>\n",
       "    <tr>\n",
       "      <th>3</th>\n",
       "      <td>2577</td>\n",
       "      <td>Wei Lih</td>\n",
       "      <td>GGE Ramen Snack Tomato Flavor</td>\n",
       "      <td>Pack</td>\n",
       "      <td>Taiwan</td>\n",
       "      <td>2.75</td>\n",
       "    </tr>\n",
       "    <tr>\n",
       "      <th>4</th>\n",
       "      <td>2576</td>\n",
       "      <td>Ching's Secret</td>\n",
       "      <td>Singapore Curry</td>\n",
       "      <td>Pack</td>\n",
       "      <td>India</td>\n",
       "      <td>3.75</td>\n",
       "    </tr>\n",
       "    <tr>\n",
       "      <th>...</th>\n",
       "      <td>...</td>\n",
       "      <td>...</td>\n",
       "      <td>...</td>\n",
       "      <td>...</td>\n",
       "      <td>...</td>\n",
       "      <td>...</td>\n",
       "    </tr>\n",
       "    <tr>\n",
       "      <th>2575</th>\n",
       "      <td>5</td>\n",
       "      <td>Vifon</td>\n",
       "      <td>Hu Tiu Nam Vang [\"Phnom Penh\" style] Asian Sty...</td>\n",
       "      <td>Bowl</td>\n",
       "      <td>Vietnam</td>\n",
       "      <td>3.50</td>\n",
       "    </tr>\n",
       "    <tr>\n",
       "      <th>2576</th>\n",
       "      <td>4</td>\n",
       "      <td>Wai Wai</td>\n",
       "      <td>Oriental Style Instant Noodles</td>\n",
       "      <td>Pack</td>\n",
       "      <td>Thailand</td>\n",
       "      <td>1.00</td>\n",
       "    </tr>\n",
       "    <tr>\n",
       "      <th>2577</th>\n",
       "      <td>3</td>\n",
       "      <td>Wai Wai</td>\n",
       "      <td>Tom Yum Shrimp</td>\n",
       "      <td>Pack</td>\n",
       "      <td>Thailand</td>\n",
       "      <td>2.00</td>\n",
       "    </tr>\n",
       "    <tr>\n",
       "      <th>2578</th>\n",
       "      <td>2</td>\n",
       "      <td>Wai Wai</td>\n",
       "      <td>Tom Yum Chili Flavor</td>\n",
       "      <td>Pack</td>\n",
       "      <td>Thailand</td>\n",
       "      <td>2.00</td>\n",
       "    </tr>\n",
       "    <tr>\n",
       "      <th>2579</th>\n",
       "      <td>1</td>\n",
       "      <td>Westbrae</td>\n",
       "      <td>Miso Ramen</td>\n",
       "      <td>Pack</td>\n",
       "      <td>USA</td>\n",
       "      <td>0.50</td>\n",
       "    </tr>\n",
       "  </tbody>\n",
       "</table>\n",
       "<p>2580 rows × 6 columns</p>\n",
       "</div>"
      ],
      "text/plain": [
       "      Review #           Brand  \\\n",
       "0         2580       New Touch   \n",
       "1         2579        Just Way   \n",
       "2         2578          Nissin   \n",
       "3         2577         Wei Lih   \n",
       "4         2576  Ching's Secret   \n",
       "...        ...             ...   \n",
       "2575         5           Vifon   \n",
       "2576         4         Wai Wai   \n",
       "2577         3         Wai Wai   \n",
       "2578         2         Wai Wai   \n",
       "2579         1        Westbrae   \n",
       "\n",
       "                                                Variety Style   Country  Stars  \n",
       "0                             T's Restaurant Tantanmen    Cup     Japan   3.75  \n",
       "1     Noodles Spicy Hot Sesame Spicy Hot Sesame Guan...  Pack    Taiwan   1.00  \n",
       "2                         Cup Noodles Chicken Vegetable   Cup       USA   2.25  \n",
       "3                         GGE Ramen Snack Tomato Flavor  Pack    Taiwan   2.75  \n",
       "4                                       Singapore Curry  Pack     India   3.75  \n",
       "...                                                 ...   ...       ...    ...  \n",
       "2575  Hu Tiu Nam Vang [\"Phnom Penh\" style] Asian Sty...  Bowl   Vietnam   3.50  \n",
       "2576                     Oriental Style Instant Noodles  Pack  Thailand   1.00  \n",
       "2577                                     Tom Yum Shrimp  Pack  Thailand   2.00  \n",
       "2578                               Tom Yum Chili Flavor  Pack  Thailand   2.00  \n",
       "2579                                         Miso Ramen  Pack       USA   0.50  \n",
       "\n",
       "[2580 rows x 6 columns]"
      ]
     },
     "execution_count": 264,
     "metadata": {},
     "output_type": "execute_result"
    }
   ],
   "source": [
    "ramen_distribution"
   ]
  },
  {
   "cell_type": "code",
   "execution_count": 265,
   "id": "8d12443a-2730-4d60-a387-b73000b90d4c",
   "metadata": {},
   "outputs": [],
   "source": [
    "Style_dict = {ramen_distribution.Style.unique()[i]: i+1 for i in range(0,len(ramen_distribution.Style.unique()))}\n",
    "ramen_distribution.Style.replace(Style_dict,inplace=True)"
   ]
  },
  {
   "cell_type": "code",
   "execution_count": 266,
   "id": "31802eb2-9c54-4d4f-bf9b-44fe83b51076",
   "metadata": {},
   "outputs": [
    {
     "data": {
      "text/html": [
       "<div>\n",
       "<style scoped>\n",
       "    .dataframe tbody tr th:only-of-type {\n",
       "        vertical-align: middle;\n",
       "    }\n",
       "\n",
       "    .dataframe tbody tr th {\n",
       "        vertical-align: top;\n",
       "    }\n",
       "\n",
       "    .dataframe thead th {\n",
       "        text-align: right;\n",
       "    }\n",
       "</style>\n",
       "<table border=\"1\" class=\"dataframe\">\n",
       "  <thead>\n",
       "    <tr style=\"text-align: right;\">\n",
       "      <th></th>\n",
       "      <th>Review #</th>\n",
       "      <th>Brand</th>\n",
       "      <th>Variety</th>\n",
       "      <th>Style</th>\n",
       "      <th>Country</th>\n",
       "      <th>Stars</th>\n",
       "    </tr>\n",
       "  </thead>\n",
       "  <tbody>\n",
       "    <tr>\n",
       "      <th>0</th>\n",
       "      <td>2580</td>\n",
       "      <td>New Touch</td>\n",
       "      <td>T's Restaurant Tantanmen</td>\n",
       "      <td>1</td>\n",
       "      <td>Japan</td>\n",
       "      <td>3.75</td>\n",
       "    </tr>\n",
       "    <tr>\n",
       "      <th>1</th>\n",
       "      <td>2579</td>\n",
       "      <td>Just Way</td>\n",
       "      <td>Noodles Spicy Hot Sesame Spicy Hot Sesame Guan...</td>\n",
       "      <td>2</td>\n",
       "      <td>Taiwan</td>\n",
       "      <td>1.00</td>\n",
       "    </tr>\n",
       "    <tr>\n",
       "      <th>2</th>\n",
       "      <td>2578</td>\n",
       "      <td>Nissin</td>\n",
       "      <td>Cup Noodles Chicken Vegetable</td>\n",
       "      <td>1</td>\n",
       "      <td>USA</td>\n",
       "      <td>2.25</td>\n",
       "    </tr>\n",
       "    <tr>\n",
       "      <th>3</th>\n",
       "      <td>2577</td>\n",
       "      <td>Wei Lih</td>\n",
       "      <td>GGE Ramen Snack Tomato Flavor</td>\n",
       "      <td>2</td>\n",
       "      <td>Taiwan</td>\n",
       "      <td>2.75</td>\n",
       "    </tr>\n",
       "    <tr>\n",
       "      <th>4</th>\n",
       "      <td>2576</td>\n",
       "      <td>Ching's Secret</td>\n",
       "      <td>Singapore Curry</td>\n",
       "      <td>2</td>\n",
       "      <td>India</td>\n",
       "      <td>3.75</td>\n",
       "    </tr>\n",
       "    <tr>\n",
       "      <th>...</th>\n",
       "      <td>...</td>\n",
       "      <td>...</td>\n",
       "      <td>...</td>\n",
       "      <td>...</td>\n",
       "      <td>...</td>\n",
       "      <td>...</td>\n",
       "    </tr>\n",
       "    <tr>\n",
       "      <th>2575</th>\n",
       "      <td>5</td>\n",
       "      <td>Vifon</td>\n",
       "      <td>Hu Tiu Nam Vang [\"Phnom Penh\" style] Asian Sty...</td>\n",
       "      <td>4</td>\n",
       "      <td>Vietnam</td>\n",
       "      <td>3.50</td>\n",
       "    </tr>\n",
       "    <tr>\n",
       "      <th>2576</th>\n",
       "      <td>4</td>\n",
       "      <td>Wai Wai</td>\n",
       "      <td>Oriental Style Instant Noodles</td>\n",
       "      <td>2</td>\n",
       "      <td>Thailand</td>\n",
       "      <td>1.00</td>\n",
       "    </tr>\n",
       "    <tr>\n",
       "      <th>2577</th>\n",
       "      <td>3</td>\n",
       "      <td>Wai Wai</td>\n",
       "      <td>Tom Yum Shrimp</td>\n",
       "      <td>2</td>\n",
       "      <td>Thailand</td>\n",
       "      <td>2.00</td>\n",
       "    </tr>\n",
       "    <tr>\n",
       "      <th>2578</th>\n",
       "      <td>2</td>\n",
       "      <td>Wai Wai</td>\n",
       "      <td>Tom Yum Chili Flavor</td>\n",
       "      <td>2</td>\n",
       "      <td>Thailand</td>\n",
       "      <td>2.00</td>\n",
       "    </tr>\n",
       "    <tr>\n",
       "      <th>2579</th>\n",
       "      <td>1</td>\n",
       "      <td>Westbrae</td>\n",
       "      <td>Miso Ramen</td>\n",
       "      <td>2</td>\n",
       "      <td>USA</td>\n",
       "      <td>0.50</td>\n",
       "    </tr>\n",
       "  </tbody>\n",
       "</table>\n",
       "<p>2580 rows × 6 columns</p>\n",
       "</div>"
      ],
      "text/plain": [
       "      Review #           Brand  \\\n",
       "0         2580       New Touch   \n",
       "1         2579        Just Way   \n",
       "2         2578          Nissin   \n",
       "3         2577         Wei Lih   \n",
       "4         2576  Ching's Secret   \n",
       "...        ...             ...   \n",
       "2575         5           Vifon   \n",
       "2576         4         Wai Wai   \n",
       "2577         3         Wai Wai   \n",
       "2578         2         Wai Wai   \n",
       "2579         1        Westbrae   \n",
       "\n",
       "                                                Variety  Style   Country  \\\n",
       "0                             T's Restaurant Tantanmen       1     Japan   \n",
       "1     Noodles Spicy Hot Sesame Spicy Hot Sesame Guan...      2    Taiwan   \n",
       "2                         Cup Noodles Chicken Vegetable      1       USA   \n",
       "3                         GGE Ramen Snack Tomato Flavor      2    Taiwan   \n",
       "4                                       Singapore Curry      2     India   \n",
       "...                                                 ...    ...       ...   \n",
       "2575  Hu Tiu Nam Vang [\"Phnom Penh\" style] Asian Sty...      4   Vietnam   \n",
       "2576                     Oriental Style Instant Noodles      2  Thailand   \n",
       "2577                                     Tom Yum Shrimp      2  Thailand   \n",
       "2578                               Tom Yum Chili Flavor      2  Thailand   \n",
       "2579                                         Miso Ramen      2       USA   \n",
       "\n",
       "      Stars  \n",
       "0      3.75  \n",
       "1      1.00  \n",
       "2      2.25  \n",
       "3      2.75  \n",
       "4      3.75  \n",
       "...     ...  \n",
       "2575   3.50  \n",
       "2576   1.00  \n",
       "2577   2.00  \n",
       "2578   2.00  \n",
       "2579   0.50  \n",
       "\n",
       "[2580 rows x 6 columns]"
      ]
     },
     "execution_count": 266,
     "metadata": {},
     "output_type": "execute_result"
    }
   ],
   "source": [
    "ramen_distribution"
   ]
  },
  {
   "cell_type": "code",
   "execution_count": 267,
   "id": "eca36e99-c134-4df3-b3c6-99f8b4a57a9a",
   "metadata": {},
   "outputs": [
    {
     "data": {
      "text/plain": [
       "Text(0.5, 1.0, 'Distributions of different ramen style rankings')"
      ]
     },
     "execution_count": 267,
     "metadata": {},
     "output_type": "execute_result"
    },
    {
     "data": {
      "image/png": "[encoded data removed]",
      "text/plain": [
       "<Figure size 720x720 with 1 Axes>"
      ]
     },
     "metadata": {
      "needs_background": "light"
     },
     "output_type": "display_data"
    }
   ],
   "source": [
    "plt.subplots(figsize=(10,10))\n",
    "ax = sn.kdeplot(data=ramen, x='Stars', hue='Style', warn_singular=False)\n",
    "ax.set_title(\"Distributions of different ramen style rankings\", fontsize=18)"
   ]
  },
  {
   "cell_type": "markdown",
   "id": "fba715a0-23c4-4cb0-8ad7-4bb22b4f6961",
   "metadata": {},
   "source": [
    "### pack noodles has the most distributed noodle style. Which means that sellers mostly buy noodle in pack."
   ]
  },
  {
   "cell_type": "markdown",
   "id": "a390cd20-3a91-4ff4-afa7-50e38d861e67",
   "metadata": {},
   "source": [
    "# III) What makes a good ramen?"
   ]
  },
  {
   "cell_type": "markdown",
   "id": "0fac05a0-3964-4b7d-bb98-763c46dfb7e3",
   "metadata": {},
   "source": [
    "## 1- Which meat flavor is the best seller?\n",
    "## 2-What type of noodle is the best seller? \n",
    "## 3-Do consumers prefer spicy or not spicy noodles? \n"
   ]
  },
  {
   "cell_type": "markdown",
   "id": "f301d4f4-9b7b-4969-8820-406c8884f2f9",
   "metadata": {},
   "source": [
    "# Step one-Features extractions"
   ]
  },
  {
   "cell_type": "code",
   "execution_count": 268,
   "id": "fe04971e-df0b-40b5-8eaf-45cda429136b",
   "metadata": {},
   "outputs": [],
   "source": [
    "#list of meat types and noodle types\n",
    "meat_types=['chicken','beef','duck','pork','shrimp','turkey']\n",
    "noodle_types=['udon','soba','ramen','egg','shirataki','hokkien','noodles']\n",
    "spc = ['spicy','hot','flaming','chili']\n",
    "\n",
    "# boolean functions for flavors, noodle types and meat types detection\n",
    "\n",
    "def contain_flavor(data):\n",
    "    low=data.lower()\n",
    "    return 1 if 'flavor' in low else 0\n",
    "\n",
    "def which_meat(data):\n",
    "    low=data.lower()\n",
    "    for meat in meat_types:\n",
    "        if meat in low:\n",
    "            return meat\n",
    "    return 'unspecified'\n",
    "\n",
    "def which_noodle(data):\n",
    "    low=data.lower()\n",
    "    for noodle in noodle_types:\n",
    "        if noodle in low:\n",
    "            return noodle\n",
    "    return 'unspecified'\n",
    "\n",
    "\n",
    "def is_spicy(data):\n",
    "    low=data.lower()\n",
    "    for el in spc:\n",
    "        if el in data:\n",
    "            return 1\n",
    "    return 0"
   ]
  },
  {
   "cell_type": "code",
   "execution_count": 269,
   "id": "d5ece102-e33a-4184-8a12-5900ca39ab17",
   "metadata": {},
   "outputs": [],
   "source": [
    "#adding new columns in pandas\n",
    "\n",
    "ramen['contains_flavor']=ramen['Variety'].apply(contain_flavor)\n",
    "ramen['meat_type']=ramen['Variety'].apply(which_meat)\n",
    "ramen['noodle_type']=ramen['Variety'].apply(which_noodle)\n",
    "ramen['is_spicy']=ramen['Variety'].apply(is_spicy)\n"
   ]
  },
  {
   "cell_type": "code",
   "execution_count": 270,
   "id": "138001c9-28dd-488b-b6da-8b1fb4ed8fe8",
   "metadata": {},
   "outputs": [],
   "source": [
    "#copying a new dataframe from the original one with columns that interests us\n",
    "\n",
    "ramen_ingredients=ramen[['Country','Brand','contains_flavor','meat_type','noodle_type','is_spicy','Style','Stars']].copy() \n"
   ]
  },
  {
   "cell_type": "code",
   "execution_count": 271,
   "id": "7a8bad09-8e84-4cec-9796-c4af94bc4c2c",
   "metadata": {},
   "outputs": [
    {
     "data": {
      "text/html": [
       "<div>\n",
       "<style scoped>\n",
       "    .dataframe tbody tr th:only-of-type {\n",
       "        vertical-align: middle;\n",
       "    }\n",
       "\n",
       "    .dataframe tbody tr th {\n",
       "        vertical-align: top;\n",
       "    }\n",
       "\n",
       "    .dataframe thead th {\n",
       "        text-align: right;\n",
       "    }\n",
       "</style>\n",
       "<table border=\"1\" class=\"dataframe\">\n",
       "  <thead>\n",
       "    <tr style=\"text-align: right;\">\n",
       "      <th></th>\n",
       "      <th>Country</th>\n",
       "      <th>Brand</th>\n",
       "      <th>contains_flavor</th>\n",
       "      <th>meat_type</th>\n",
       "      <th>noodle_type</th>\n",
       "      <th>is_spicy</th>\n",
       "      <th>Style</th>\n",
       "      <th>Stars</th>\n",
       "    </tr>\n",
       "  </thead>\n",
       "  <tbody>\n",
       "    <tr>\n",
       "      <th>0</th>\n",
       "      <td>Japan</td>\n",
       "      <td>New Touch</td>\n",
       "      <td>0</td>\n",
       "      <td>unspecified</td>\n",
       "      <td>unspecified</td>\n",
       "      <td>0</td>\n",
       "      <td>Cup</td>\n",
       "      <td>3.75</td>\n",
       "    </tr>\n",
       "    <tr>\n",
       "      <th>1</th>\n",
       "      <td>Taiwan</td>\n",
       "      <td>Just Way</td>\n",
       "      <td>0</td>\n",
       "      <td>unspecified</td>\n",
       "      <td>noodles</td>\n",
       "      <td>0</td>\n",
       "      <td>Pack</td>\n",
       "      <td>1.00</td>\n",
       "    </tr>\n",
       "    <tr>\n",
       "      <th>2</th>\n",
       "      <td>USA</td>\n",
       "      <td>Nissin</td>\n",
       "      <td>0</td>\n",
       "      <td>chicken</td>\n",
       "      <td>noodles</td>\n",
       "      <td>0</td>\n",
       "      <td>Cup</td>\n",
       "      <td>2.25</td>\n",
       "    </tr>\n",
       "    <tr>\n",
       "      <th>3</th>\n",
       "      <td>Taiwan</td>\n",
       "      <td>Wei Lih</td>\n",
       "      <td>1</td>\n",
       "      <td>unspecified</td>\n",
       "      <td>ramen</td>\n",
       "      <td>0</td>\n",
       "      <td>Pack</td>\n",
       "      <td>2.75</td>\n",
       "    </tr>\n",
       "    <tr>\n",
       "      <th>4</th>\n",
       "      <td>India</td>\n",
       "      <td>Ching's Secret</td>\n",
       "      <td>0</td>\n",
       "      <td>unspecified</td>\n",
       "      <td>unspecified</td>\n",
       "      <td>0</td>\n",
       "      <td>Pack</td>\n",
       "      <td>3.75</td>\n",
       "    </tr>\n",
       "  </tbody>\n",
       "</table>\n",
       "</div>"
      ],
      "text/plain": [
       "  Country           Brand  contains_flavor    meat_type  noodle_type  \\\n",
       "0   Japan       New Touch                0  unspecified  unspecified   \n",
       "1  Taiwan        Just Way                0  unspecified      noodles   \n",
       "2     USA          Nissin                0      chicken      noodles   \n",
       "3  Taiwan         Wei Lih                1  unspecified        ramen   \n",
       "4   India  Ching's Secret                0  unspecified  unspecified   \n",
       "\n",
       "   is_spicy Style  Stars  \n",
       "0         0   Cup   3.75  \n",
       "1         0  Pack   1.00  \n",
       "2         0   Cup   2.25  \n",
       "3         0  Pack   2.75  \n",
       "4         0  Pack   3.75  "
      ]
     },
     "execution_count": 271,
     "metadata": {},
     "output_type": "execute_result"
    }
   ],
   "source": [
    "ramen_ingredients.head()"
   ]
  },
  {
   "cell_type": "code",
   "execution_count": 272,
   "id": "d071e2bd-8e14-4fc0-8d14-cc42baa37f24",
   "metadata": {},
   "outputs": [
    {
     "data": {
      "text/plain": [
       "Text(0.5, 1.0, 'Distribution of rankings of different meat types across different styles')"
      ]
     },
     "execution_count": 272,
     "metadata": {},
     "output_type": "execute_result"
    },
    {
     "data": {
      "image/png": "[encoded data removed]",
      "text/plain": [
       "<Figure size 720x720 with 1 Axes>"
      ]
     },
     "metadata": {
      "needs_background": "light"
     },
     "output_type": "display_data"
    }
   ],
   "source": [
    "ramen_ingredients.value_counts('meat_type')\n",
    "plt.subplots(figsize=(10,10))\n",
    "ax=sn.boxplot(data=ramen_ingredients ,hue='meat_type', x='Style', y='Stars')\n",
    "ax.set_title('Distribution of rankings of different meat types across different styles',fontsize=18)"
   ]
  },
  {
   "cell_type": "code",
   "execution_count": 283,
   "id": "cd0a6348-8166-4150-a509-ed423eb9d9c8",
   "metadata": {},
   "outputs": [
    {
     "data": {
      "text/plain": [
       "Text(0.5, 1.0, 'Distribution of rankings of different meat types across different styles')"
      ]
     },
     "execution_count": 283,
     "metadata": {},
     "output_type": "execute_result"
    },
    {
     "data": {
      "image/png": "[encoded data removed]",
      "text/plain": [
       "<Figure size 720x720 with 1 Axes>"
      ]
     },
     "metadata": {
      "needs_background": "light"
     },
     "output_type": "display_data"
    }
   ],
   "source": [
    "plt.subplots(figsize=(10,10))\n",
    "ax = sn.kdeplot(data=ramen_ingredients, x='Stars', hue='meat_type', warn_singular=False)\n",
    "ax.set_title('Distribution of rankings of different meat types across different styles',fontsize=18)"
   ]
  },
  {
   "cell_type": "code",
   "execution_count": 274,
   "id": "502be56b-afe2-4e75-8313-b844328d928c",
   "metadata": {},
   "outputs": [],
   "source": [
    "#percentage meat type consumed\n",
    "meat_type_percent=ramen_ingredients['meat_type'].value_counts()/len(ramen_ingredients['meat_type'])*100"
   ]
  },
  {
   "cell_type": "code",
   "execution_count": 275,
   "id": "5484030e-04cb-4ee1-83cc-b520cf1e6488",
   "metadata": {},
   "outputs": [
    {
     "data": {
      "text/plain": [
       "unspecified    68.953488\n",
       "chicken        12.713178\n",
       "beef            8.992248\n",
       "shrimp          4.922481\n",
       "pork            3.914729\n",
       "duck            0.503876\n",
       "Name: meat_type, dtype: float64"
      ]
     },
     "execution_count": 275,
     "metadata": {},
     "output_type": "execute_result"
    }
   ],
   "source": [
    "meat_type_percent"
   ]
  },
  {
   "cell_type": "code",
   "execution_count": 306,
   "id": "89dd3d84-4ab3-49cc-8314-966385cd8bfa",
   "metadata": {},
   "outputs": [
    {
     "data": {
      "image/png": "[encoded data removed]",
      "text/plain": [
       "<Figure size 432x288 with 1 Axes>"
      ]
     },
     "metadata": {},
     "output_type": "display_data"
    }
   ],
   "source": [
    "plt.pie(meat_type_percent[1:6],pctdistance=1.4,autopct=\"%2.01f%%\",radius=1.6,labels=['chicken','beef','shrimp','pork','duck'],\n",
    "        explode=[0,0,0,0,0],\n",
    "textprops={'fontsize': 15})\n",
    "plt.title('Percentage of the different meat types', fontsize=25, pad=100)\n",
    "plt.show()\n"
   ]
  },
  {
   "cell_type": "markdown",
   "id": "79101cdc-902b-4e96-8210-afb969232d6b",
   "metadata": {},
   "source": [
    "## even though several labels do not indicate the meat type (mostly 70%), chicken and beef noodles seem to be the most noodle bought by customers"
   ]
  },
  {
   "cell_type": "code",
   "execution_count": 277,
   "id": "3a479995-838c-4776-bdf9-d46fb0a2d114",
   "metadata": {},
   "outputs": [],
   "source": [
    "noodle_percent=ramen_ingredients['noodle_type'].value_counts()/len(ramen_ingredients['noodle_type'])*100"
   ]
  },
  {
   "cell_type": "code",
   "execution_count": 278,
   "id": "b6585fc0-6838-404c-82d5-39142dd3259a",
   "metadata": {},
   "outputs": [
    {
     "data": {
      "text/plain": [
       "unspecified    57.286822\n",
       "noodles        22.713178\n",
       "ramen          12.984496\n",
       "udon            3.178295\n",
       "soba            3.023256\n",
       "egg             0.542636\n",
       "hokkien         0.271318\n",
       "Name: noodle_type, dtype: float64"
      ]
     },
     "execution_count": 278,
     "metadata": {},
     "output_type": "execute_result"
    }
   ],
   "source": [
    "noodle_percent"
   ]
  },
  {
   "cell_type": "code",
   "execution_count": 305,
   "id": "7b42f236-7ab0-40ae-9ce8-954821610f12",
   "metadata": {},
   "outputs": [
    {
     "data": {
      "text/plain": [
       "Text(0.5, 1.0, 'Percentage of the different types of noodles')"
      ]
     },
     "execution_count": 305,
     "metadata": {},
     "output_type": "execute_result"
    },
    {
     "data": {
      "image/png": "[encoded data removed]",
      "text/plain": [
       "<Figure size 432x288 with 1 Axes>"
      ]
     },
     "metadata": {},
     "output_type": "display_data"
    }
   ],
   "source": [
    "plt.pie(noodle_percent[1:7],pctdistance=1.3,autopct=\"%2.01f%%\",radius=1.7,labels=['noodles','ramen','udon','soba','egg','hokkien'],\n",
    "        explode=[0,0,0,0,0,0],textprops={'fontsize': 14})\n",
    "plt.title('Percentage of the different types of noodles', fontsize=25, pad=110)"
   ]
  },
  {
   "cell_type": "markdown",
   "id": "8dc72fe2-7561-4347-9ec5-10c6c5ac8992",
   "metadata": {},
   "source": [
    "## 3-Do consumers prefer spicy or not spicy noodles? "
   ]
  },
  {
   "cell_type": "code",
   "execution_count": 280,
   "id": "7b901d39-ed9d-4b57-898c-7044bddd90df",
   "metadata": {},
   "outputs": [],
   "source": [
    "is_spicy_percent=ramen_ingredients['is_spicy'].value_counts()/len(ramen_ingredients['is_spicy'])*100"
   ]
  },
  {
   "cell_type": "code",
   "execution_count": 281,
   "id": "d9595e3b-01b8-46a1-9f3d-f8c8f2188098",
   "metadata": {},
   "outputs": [
    {
     "data": {
      "text/plain": [
       "0    99.728682\n",
       "1     0.271318\n",
       "Name: is_spicy, dtype: float64"
      ]
     },
     "execution_count": 281,
     "metadata": {},
     "output_type": "execute_result"
    }
   ],
   "source": [
    "is_spicy_percent"
   ]
  },
  {
   "cell_type": "markdown",
   "id": "332ee222-a298-4077-abbb-934b4e80a8a1",
   "metadata": {},
   "source": [
    "## Given seveval variety value do not contain the word'spicy', we cannot identify.\n",
    "## However, we can identify the distribution of stars in spicy and not spicy products"
   ]
  },
  {
   "cell_type": "code",
   "execution_count": 282,
   "id": "df52edf5-561b-4df4-bb7a-1656db4974d6",
   "metadata": {},
   "outputs": [
    {
     "name": "stderr",
     "output_type": "stream",
     "text": [
      "/Users/aurelield/.local/lib/python3.8/site-packages/seaborn/distributions.py:2619: FutureWarning: `distplot` is a deprecated function and will be removed in a future version. Please adapt your code to use either `displot` (a figure-level function with similar flexibility) or `kdeplot` (an axes-level function for kernel density plots).\n",
      "  warnings.warn(msg, FutureWarning)\n",
      "/Users/aurelield/.local/lib/python3.8/site-packages/seaborn/distributions.py:2619: FutureWarning: `distplot` is a deprecated function and will be removed in a future version. Please adapt your code to use either `displot` (a figure-level function with similar flexibility) or `kdeplot` (an axes-level function for kernel density plots).\n",
      "  warnings.warn(msg, FutureWarning)\n"
     ]
    },
    {
     "data": {
      "image/png": "[encoded data removed]",
      "text/plain": [
       "<Figure size 432x288 with 1 Axes>"
      ]
     },
     "metadata": {
      "needs_background": "light"
     },
     "output_type": "display_data"
    }
   ],
   "source": [
    "ax = sn.distplot(ramen_ingredients[ramen_ingredients['is_spicy']==1]['Stars'],hist=False,label = \"Spicy\",kde_kws={'lw':4} )\n",
    "ax = sn.distplot(ramen_ingredients[ramen_ingredients['is_spicy']==0]['Stars'],hist=False,label = \"Not Spicy\",kde_kws={'lw':4} )\n",
    "\n",
    "\n",
    "plt.legend(prop={'size':20})\n",
    "ax.set_title('Distribution of stars in spicy and not spicy products',fontsize=18)    \n",
    "plt.show()"
   ]
  },
  {
   "cell_type": "code",
   "execution_count": null,
   "id": "a44081e3-a802-40c6-beea-b0faf3c3017e",
   "metadata": {},
   "outputs": [],
   "source": []
  }
 ],
 "metadata": {
  "kernelspec": {
   "display_name": "Python 3 (ipykernel)",
   "language": "python",
   "name": "python3"
  },
  "language_info": {
   "codemirror_mode": {
    "name": "ipython",
    "version": 3
   },
   "file_extension": ".py",
   "mimetype": "text/x-python",
   "name": "python",
   "nbconvert_exporter": "python",
   "pygments_lexer": "ipython3",
   "version": "3.8.13"
  }
 },
 "nbformat": 4,
 "nbformat_minor": 5
}
